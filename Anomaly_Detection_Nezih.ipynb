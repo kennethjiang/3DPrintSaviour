{
  "nbformat": 4,
  "nbformat_minor": 0,
  "metadata": {
    "colab": {
      "provenance": [],
      "mount_file_id": "1t-Ro2XzFIhKfLb2DCW4kbvvTHL2_NvSS",
      "authorship_tag": "ABX9TyO4syKE/SLqZtfk2QOMC/iR",
      "include_colab_link": true
    },
    "kernelspec": {
      "name": "python3",
      "display_name": "Python 3"
    },
    "language_info": {
      "name": "python"
    }
  },
  "cells": [
    {
      "cell_type": "markdown",
      "metadata": {
        "id": "view-in-github",
        "colab_type": "text"
      },
      "source": [
        "<a href=\"https://colab.research.google.com/github/kennethjiang/3DPrintSaviour/blob/master/Anomaly_Detection_Nezih.ipynb\" target=\"_parent\"><img src=\"https://colab.research.google.com/assets/colab-badge.svg\" alt=\"Open In Colab\"/></a>"
      ]
    },
    {
      "cell_type": "code",
      "execution_count": null,
      "metadata": {
        "colab": {
          "base_uri": "https://localhost:8080/"
        },
        "id": "bhfQITSMuwDa",
        "outputId": "f035688d-1770-400c-b6f2-2bdb9ff2d44c"
      },
      "outputs": [
        {
          "output_type": "stream",
          "name": "stdout",
          "text": [
            "Drive already mounted at /content/drive; to attempt to forcibly remount, call drive.mount(\"/content/drive\", force_remount=True).\n"
          ]
        }
      ],
      "source": [
        "# Load the Drive helper and mount\n",
        "from google.colab import drive\n",
        "\n",
        "# This will prompt for authorization.\n",
        "drive.mount('/content/drive')"
      ]
    },
    {
      "cell_type": "code",
      "source": [
        "import pandas as pd\n",
        "import matplotlib.pyplot as plt\n",
        "\n",
        "plt.rcParams['figure.figsize'] = [15, 10]\n"
      ],
      "metadata": {
        "id": "2aUrZIqAvlNd"
      },
      "execution_count": null,
      "outputs": []
    },
    {
      "cell_type": "code",
      "source": [
        "df = pd.read_csv(\"/content/drive/MyDrive/print_log_filtered_classification3.csv\")\n",
        "df[df['hotend_class'] != 1]['img_path']\n",
        "# df[['flow_rate', 'flow_rate_class']].plot()"
      ],
      "metadata": {
        "colab": {
          "base_uri": "https://localhost:8080/"
        },
        "id": "g5cLtFA0v-7L",
        "outputId": "eb68ba9e-b137-4a0c-ea07-e8d28053aa34"
      },
      "execution_count": null,
      "outputs": [
        {
          "output_type": "execute_result",
          "data": {
            "text/plain": [
              "206    caxton_dataset/print21/image-210.jpg\n",
              "207    caxton_dataset/print21/image-211.jpg\n",
              "208    caxton_dataset/print21/image-212.jpg\n",
              "209    caxton_dataset/print21/image-213.jpg\n",
              "210    caxton_dataset/print21/image-214.jpg\n",
              "                       ...                 \n",
              "761    caxton_dataset/print21/image-765.jpg\n",
              "762    caxton_dataset/print21/image-766.jpg\n",
              "763    caxton_dataset/print21/image-767.jpg\n",
              "764    caxton_dataset/print21/image-768.jpg\n",
              "765    caxton_dataset/print21/image-769.jpg\n",
              "Name: img_path, Length: 499, dtype: object"
            ]
          },
          "metadata": {},
          "execution_count": 22
        }
      ]
    },
    {
      "cell_type": "code",
      "source": [],
      "metadata": {
        "id": "nbU4vNrkxVjL"
      },
      "execution_count": null,
      "outputs": []
    }
  ]
}